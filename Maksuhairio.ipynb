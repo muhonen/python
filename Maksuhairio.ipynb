{
 "cells": [
  {
   "cell_type": "markdown",
   "metadata": {},
   "source": [
    "__Logistinen regressio__"
   ]
  },
  {
   "cell_type": "code",
   "execution_count": 1,
   "metadata": {},
   "outputs": [],
   "source": [
    "#Tuodaan kirjastot\n",
    "import numpy as np\n",
    "import pandas as pd\n",
    "import seaborn as sns\n",
    "import matplotlib.pyplot as plt\n",
    "\n",
    "#Näytetään kuviot notebookissa heti koodin alla\n",
    "%matplotlib inline"
   ]
  },
  {
   "cell_type": "code",
   "execution_count": 2,
   "metadata": {},
   "outputs": [
    {
     "data": {
      "text/html": [
       "<div>\n",
       "<style scoped>\n",
       "    .dataframe tbody tr th:only-of-type {\n",
       "        vertical-align: middle;\n",
       "    }\n",
       "\n",
       "    .dataframe tbody tr th {\n",
       "        vertical-align: top;\n",
       "    }\n",
       "\n",
       "    .dataframe thead th {\n",
       "        text-align: right;\n",
       "    }\n",
       "</style>\n",
       "<table border=\"1\" class=\"dataframe\">\n",
       "  <thead>\n",
       "    <tr style=\"text-align: right;\">\n",
       "      <th></th>\n",
       "      <th>KAUPPAREKISTERINRO</th>\n",
       "      <th>Yrityksen_ikä_kk</th>\n",
       "      <th>YHTIOMUOTO</th>\n",
       "      <th>P_TOIMIALAKOODI</th>\n",
       "      <th>P_Toimialan_maksuhäiriöriski</th>\n",
       "      <th>P_kiinnitysten_EUR</th>\n",
       "      <th>P_Positiiviset_Maksutavat_EUR</th>\n",
       "      <th>P_Positiivisten_maksutapojen_toimittajien_LKM</th>\n",
       "      <th>P_Maksuviiveiden_yli8päivää_EUR</th>\n",
       "      <th>P_Maksuviiveiden_yli8päivää_Toimittajien_LKM</th>\n",
       "      <th>...</th>\n",
       "      <th>P_Omavaraisuusaste</th>\n",
       "      <th>P_KOKONAISPAAOMA_TUOTTO</th>\n",
       "      <th>P_QUICKRATIO</th>\n",
       "      <th>P_OMA_PAAOMA</th>\n",
       "      <th>P_MAKSUHAIRIOT_alle1Vuotta_vanhojen_KPL</th>\n",
       "      <th>P_MAKSUHAIRIOT_1_vuodesta_2_vuoteen_vanhojen_KPL</th>\n",
       "      <th>P_MAKSUHAIRIOT_yli_2_vuotta_vanhojen_KPL</th>\n",
       "      <th>Yritystä_haettu_konkurssiin_velkojan_toimesta</th>\n",
       "      <th>Yrityssaneeraus</th>\n",
       "      <th>VASTE</th>\n",
       "    </tr>\n",
       "  </thead>\n",
       "  <tbody>\n",
       "    <tr>\n",
       "      <th>0</th>\n",
       "      <td>002361</td>\n",
       "      <td>1390</td>\n",
       "      <td>OY</td>\n",
       "      <td>46210</td>\n",
       "      <td>4.7</td>\n",
       "      <td>0.0</td>\n",
       "      <td>1031568</td>\n",
       "      <td>14</td>\n",
       "      <td>3192</td>\n",
       "      <td>3</td>\n",
       "      <td>...</td>\n",
       "      <td>26.4</td>\n",
       "      <td>3.4</td>\n",
       "      <td>0.5</td>\n",
       "      <td>65052744</td>\n",
       "      <td>0</td>\n",
       "      <td>0</td>\n",
       "      <td>0</td>\n",
       "      <td>0</td>\n",
       "      <td>0</td>\n",
       "      <td>0</td>\n",
       "    </tr>\n",
       "    <tr>\n",
       "      <th>1</th>\n",
       "      <td>004317</td>\n",
       "      <td>1389</td>\n",
       "      <td>OY</td>\n",
       "      <td>58130</td>\n",
       "      <td>5.3</td>\n",
       "      <td>0.0</td>\n",
       "      <td>221</td>\n",
       "      <td>1</td>\n",
       "      <td>0</td>\n",
       "      <td>0</td>\n",
       "      <td>...</td>\n",
       "      <td>60.1</td>\n",
       "      <td>13.3</td>\n",
       "      <td>2.2</td>\n",
       "      <td>3619000</td>\n",
       "      <td>0</td>\n",
       "      <td>0</td>\n",
       "      <td>0</td>\n",
       "      <td>0</td>\n",
       "      <td>0</td>\n",
       "      <td>0</td>\n",
       "    </tr>\n",
       "    <tr>\n",
       "      <th>2</th>\n",
       "      <td>006143</td>\n",
       "      <td>1388</td>\n",
       "      <td>OY</td>\n",
       "      <td>64200</td>\n",
       "      <td>4.5</td>\n",
       "      <td>0.0</td>\n",
       "      <td>23265</td>\n",
       "      <td>4</td>\n",
       "      <td>0</td>\n",
       "      <td>0</td>\n",
       "      <td>...</td>\n",
       "      <td>60.6</td>\n",
       "      <td>19.5</td>\n",
       "      <td>0.9</td>\n",
       "      <td>534200000</td>\n",
       "      <td>0</td>\n",
       "      <td>0</td>\n",
       "      <td>0</td>\n",
       "      <td>0</td>\n",
       "      <td>0</td>\n",
       "      <td>0</td>\n",
       "    </tr>\n",
       "    <tr>\n",
       "      <th>3</th>\n",
       "      <td>008087</td>\n",
       "      <td>1385</td>\n",
       "      <td>OY</td>\n",
       "      <td>68209</td>\n",
       "      <td>1.9</td>\n",
       "      <td>0.0</td>\n",
       "      <td>0</td>\n",
       "      <td>0</td>\n",
       "      <td>0</td>\n",
       "      <td>0</td>\n",
       "      <td>...</td>\n",
       "      <td>68.7</td>\n",
       "      <td>-10.7</td>\n",
       "      <td>2.5</td>\n",
       "      <td>213000</td>\n",
       "      <td>0</td>\n",
       "      <td>0</td>\n",
       "      <td>0</td>\n",
       "      <td>0</td>\n",
       "      <td>0</td>\n",
       "      <td>0</td>\n",
       "    </tr>\n",
       "    <tr>\n",
       "      <th>4</th>\n",
       "      <td>008294</td>\n",
       "      <td>1383</td>\n",
       "      <td>OY</td>\n",
       "      <td>68209</td>\n",
       "      <td>1.9</td>\n",
       "      <td>0.0</td>\n",
       "      <td>9391</td>\n",
       "      <td>1</td>\n",
       "      <td>0</td>\n",
       "      <td>0</td>\n",
       "      <td>...</td>\n",
       "      <td>95.9</td>\n",
       "      <td>-4.7</td>\n",
       "      <td>1.2</td>\n",
       "      <td>1795000</td>\n",
       "      <td>0</td>\n",
       "      <td>0</td>\n",
       "      <td>0</td>\n",
       "      <td>0</td>\n",
       "      <td>0</td>\n",
       "      <td>0</td>\n",
       "    </tr>\n",
       "  </tbody>\n",
       "</table>\n",
       "<p>5 rows × 40 columns</p>\n",
       "</div>"
      ],
      "text/plain": [
       "  KAUPPAREKISTERINRO  Yrityksen_ikä_kk YHTIOMUOTO  P_TOIMIALAKOODI  \\\n",
       "0             002361              1390         OY            46210   \n",
       "1             004317              1389         OY            58130   \n",
       "2             006143              1388         OY            64200   \n",
       "3             008087              1385         OY            68209   \n",
       "4             008294              1383         OY            68209   \n",
       "\n",
       "   P_Toimialan_maksuhäiriöriski  P_kiinnitysten_EUR  \\\n",
       "0                           4.7                 0.0   \n",
       "1                           5.3                 0.0   \n",
       "2                           4.5                 0.0   \n",
       "3                           1.9                 0.0   \n",
       "4                           1.9                 0.0   \n",
       "\n",
       "   P_Positiiviset_Maksutavat_EUR  \\\n",
       "0                        1031568   \n",
       "1                            221   \n",
       "2                          23265   \n",
       "3                              0   \n",
       "4                           9391   \n",
       "\n",
       "   P_Positiivisten_maksutapojen_toimittajien_LKM  \\\n",
       "0                                             14   \n",
       "1                                              1   \n",
       "2                                              4   \n",
       "3                                              0   \n",
       "4                                              1   \n",
       "\n",
       "   P_Maksuviiveiden_yli8päivää_EUR  \\\n",
       "0                             3192   \n",
       "1                                0   \n",
       "2                                0   \n",
       "3                                0   \n",
       "4                                0   \n",
       "\n",
       "   P_Maksuviiveiden_yli8päivää_Toimittajien_LKM  ...  P_Omavaraisuusaste  \\\n",
       "0                                             3  ...                26.4   \n",
       "1                                             0  ...                60.1   \n",
       "2                                             0  ...                60.6   \n",
       "3                                             0  ...                68.7   \n",
       "4                                             0  ...                95.9   \n",
       "\n",
       "   P_KOKONAISPAAOMA_TUOTTO  P_QUICKRATIO  P_OMA_PAAOMA  \\\n",
       "0                      3.4           0.5      65052744   \n",
       "1                     13.3           2.2       3619000   \n",
       "2                     19.5           0.9     534200000   \n",
       "3                    -10.7           2.5        213000   \n",
       "4                     -4.7           1.2       1795000   \n",
       "\n",
       "   P_MAKSUHAIRIOT_alle1Vuotta_vanhojen_KPL  \\\n",
       "0                                        0   \n",
       "1                                        0   \n",
       "2                                        0   \n",
       "3                                        0   \n",
       "4                                        0   \n",
       "\n",
       "   P_MAKSUHAIRIOT_1_vuodesta_2_vuoteen_vanhojen_KPL  \\\n",
       "0                                                 0   \n",
       "1                                                 0   \n",
       "2                                                 0   \n",
       "3                                                 0   \n",
       "4                                                 0   \n",
       "\n",
       "   P_MAKSUHAIRIOT_yli_2_vuotta_vanhojen_KPL  \\\n",
       "0                                         0   \n",
       "1                                         0   \n",
       "2                                         0   \n",
       "3                                         0   \n",
       "4                                         0   \n",
       "\n",
       "   Yritystä_haettu_konkurssiin_velkojan_toimesta  Yrityssaneeraus  VASTE  \n",
       "0                                              0                0      0  \n",
       "1                                              0                0      0  \n",
       "2                                              0                0      0  \n",
       "3                                              0                0      0  \n",
       "4                                              0                0      0  \n",
       "\n",
       "[5 rows x 40 columns]"
      ]
     },
     "execution_count": 2,
     "metadata": {},
     "output_type": "execute_result"
    }
   ],
   "source": [
    "df=pd.read_excel('Aineisto_analyytikoille_lopullinen_2.xlsx')\n",
    "df.head()"
   ]
  },
  {
   "cell_type": "code",
   "execution_count": 3,
   "metadata": {},
   "outputs": [
    {
     "data": {
      "text/plain": [
       "array(['OY', 'OK', 'KO', 'KY', 'AY'], dtype=object)"
      ]
     },
     "execution_count": 3,
     "metadata": {},
     "output_type": "execute_result"
    }
   ],
   "source": [
    "#Katsotaan yhtiömuotojen ja eri arvot\n",
    "df['YHTIOMUOTO'].unique()"
   ]
  },
  {
   "cell_type": "code",
   "execution_count": 4,
   "metadata": {},
   "outputs": [
    {
     "data": {
      "text/plain": [
       "array([0, 1, 2, 3, 4], dtype=int64)"
      ]
     },
     "execution_count": 4,
     "metadata": {},
     "output_type": "execute_result"
    }
   ],
   "source": [
    "#Korvataan yhtiömuodot numeroilla 0-4\n",
    "df['YHTIOMUOTO'] = df['YHTIOMUOTO'].map({'OY': 0, 'OK': 1, 'KO': 2, 'KY': 3, 'AY': 4})\n",
    "df['YHTIOMUOTO'].unique()"
   ]
  },
  {
   "cell_type": "code",
   "execution_count": 5,
   "metadata": {
    "scrolled": true
   },
   "outputs": [
    {
     "data": {
      "text/plain": [
       "KAUPPAREKISTERINRO                                     0\n",
       "Yrityksen_ikä_kk                                       0\n",
       "YHTIOMUOTO                                             0\n",
       "P_TOIMIALAKOODI                                        0\n",
       "P_Toimialan_maksuhäiriöriski                           0\n",
       "P_kiinnitysten_EUR                                     0\n",
       "P_Positiiviset_Maksutavat_EUR                          0\n",
       "P_Positiivisten_maksutapojen_toimittajien_LKM          0\n",
       "P_Maksuviiveiden_yli8päivää_EUR                        0\n",
       "P_Maksuviiveiden_yli8päivää_Toimittajien_LKM           0\n",
       "P_Maksuviiveiden_keskiviive_päivissä                   0\n",
       "P_Trattapohjaisten_maksuviiveiden_LKM                  0\n",
       "P_Hallituksen_LKM                                      0\n",
       "P_Varajäsenten_LKM                                     0\n",
       "P_Vastuuhenkilöiden_LKM                                0\n",
       "P_Häiriöllisiä_henkilöitä_hallituksessa_LKM            0\n",
       "Varsinaisten_jäsenten_omat_häiriömerkinnät             0\n",
       "Varsinaisten_jäsenten_konkurssikytkennät               0\n",
       "Vars.jäsenten_kytkennät_häiriöllisiin_yrityksiin       0\n",
       "Vastuuhenkilöllä_liiketoimintakielto                   0\n",
       "Varajäsenten_häiriöiden_lkm                            0\n",
       "Prokuristien_lkm                                       0\n",
       "Prokuristien_häiriöiden_lkm                            0\n",
       "P_TILINPäätöksen_IKA_KK                                0\n",
       "P_TILIKauden_PITUUS                                    0\n",
       "P_LIIKEVAIHTO                                       1271\n",
       "P_LIIKEVAIHTOMUUTOS                                 4065\n",
       "P_BRUTTOTULOS                                       2030\n",
       "P_BRUTTOTULOSMUUTOS                                 4337\n",
       "P_TASE                                                 0\n",
       "P_Omavaraisuusaste                                   193\n",
       "P_KOKONAISPAAOMA_TUOTTO                               35\n",
       "P_QUICKRATIO                                        2078\n",
       "P_OMA_PAAOMA                                           0\n",
       "P_MAKSUHAIRIOT_alle1Vuotta_vanhojen_KPL                0\n",
       "P_MAKSUHAIRIOT_1_vuodesta_2_vuoteen_vanhojen_KPL       0\n",
       "P_MAKSUHAIRIOT_yli_2_vuotta_vanhojen_KPL               0\n",
       "Yritystä_haettu_konkurssiin_velkojan_toimesta          0\n",
       "Yrityssaneeraus                                        0\n",
       "VASTE                                                  0\n",
       "dtype: int64"
      ]
     },
     "execution_count": 5,
     "metadata": {},
     "output_type": "execute_result"
    }
   ],
   "source": [
    "#Tarkistetaan onko puuttuvia arvoja\n",
    "df.dropna(how='all')\n",
    "df.isnull().sum()"
   ]
  },
  {
   "cell_type": "code",
   "execution_count": 6,
   "metadata": {},
   "outputs": [],
   "source": [
    "df = df.fillna(0)"
   ]
  },
  {
   "cell_type": "code",
   "execution_count": 7,
   "metadata": {},
   "outputs": [],
   "source": [
    "#Features matriisi\n",
    "X = df.drop(['KAUPPAREKISTERINRO','VASTE'],axis=1)\n",
    "#Target matriisi\n",
    "y = df['VASTE']"
   ]
  },
  {
   "cell_type": "code",
   "execution_count": 8,
   "metadata": {},
   "outputs": [],
   "source": [
    "#Jaetaan data opetus- ja testidataan\n",
    "from sklearn.model_selection import train_test_split\n",
    "X_train, X_test, y_train, y_test=train_test_split(X, y, random_state=4)"
   ]
  },
  {
   "cell_type": "code",
   "execution_count": 9,
   "metadata": {},
   "outputs": [
    {
     "name": "stderr",
     "output_type": "stream",
     "text": [
      "C:\\Users\\JoelM\\Anaconda3\\lib\\site-packages\\sklearn\\linear_model\\logistic.py:433: FutureWarning: Default solver will be changed to 'lbfgs' in 0.22. Specify a solver to silence this warning.\n",
      "  FutureWarning)\n",
      "C:\\Users\\JoelM\\Anaconda3\\lib\\site-packages\\sklearn\\svm\\base.py:931: ConvergenceWarning: Liblinear failed to converge, increase the number of iterations.\n",
      "  \"the number of iterations.\", ConvergenceWarning)\n"
     ]
    }
   ],
   "source": [
    "#Tuodaan logistisen regression malli\n",
    "from sklearn.linear_model import LogisticRegression as LogR\n",
    "\n",
    "#Sovitetaan malli\n",
    "malli = LogR()\n",
    "malli.fit(X_train, y_train)\n",
    "\n",
    "#Lasketaan mallin mukaiset ennusteet\n",
    "y_train_malli = malli.predict(X_train)\n",
    "y_test_malli = malli.predict(X_test)"
   ]
  },
  {
   "cell_type": "code",
   "execution_count": 10,
   "metadata": {},
   "outputs": [
    {
     "data": {
      "text/plain": [
       "0.9385928905672769"
      ]
     },
     "execution_count": 10,
     "metadata": {},
     "output_type": "execute_result"
    }
   ],
   "source": [
    "#Katsotaan kuinka moni ennusteista osui oikeaan opetusdatassa\n",
    "from sklearn.metrics import accuracy_score\n",
    "\n",
    "accuracy_score(y_train, y_train_malli)"
   ]
  },
  {
   "cell_type": "code",
   "execution_count": 11,
   "metadata": {},
   "outputs": [
    {
     "data": {
      "text/plain": [
       "0.9357301157350406"
      ]
     },
     "execution_count": 11,
     "metadata": {},
     "output_type": "execute_result"
    }
   ],
   "source": [
    "#Katsotaan kuinka moni ennusteista osui oikeaan testidatassa\n",
    "accuracy_score(y_test, y_test_malli)"
   ]
  },
  {
   "cell_type": "code",
   "execution_count": 12,
   "metadata": {},
   "outputs": [
    {
     "name": "stdout",
     "output_type": "stream",
     "text": [
      "[[11433     2]\n",
      " [  746     0]]\n"
     ]
    }
   ],
   "source": [
    "#Confusion-matriisi opetusdatalle:\n",
    "\n",
    "from sklearn.metrics import confusion_matrix\n",
    "\n",
    "print(confusion_matrix(y_train, y_train_malli))"
   ]
  },
  {
   "cell_type": "code",
   "execution_count": 13,
   "metadata": {},
   "outputs": [
    {
     "name": "stdout",
     "output_type": "stream",
     "text": [
      "[[3800    0]\n",
      " [ 261    0]]\n"
     ]
    }
   ],
   "source": [
    "#Confusion-matriisi testidatalle:\n",
    "print(confusion_matrix(y_test,y_test_malli))"
   ]
  },
  {
   "cell_type": "code",
   "execution_count": 14,
   "metadata": {},
   "outputs": [
    {
     "data": {
      "text/html": [
       "<div>\n",
       "<style scoped>\n",
       "    .dataframe tbody tr th:only-of-type {\n",
       "        vertical-align: middle;\n",
       "    }\n",
       "\n",
       "    .dataframe tbody tr th {\n",
       "        vertical-align: top;\n",
       "    }\n",
       "\n",
       "    .dataframe thead th {\n",
       "        text-align: right;\n",
       "    }\n",
       "</style>\n",
       "<table border=\"1\" class=\"dataframe\">\n",
       "  <thead>\n",
       "    <tr style=\"text-align: right;\">\n",
       "      <th></th>\n",
       "      <th>KAUPPAREKISTERINRO</th>\n",
       "      <th>Yrityksen_ikä_kk</th>\n",
       "      <th>YHTIOMUOTO</th>\n",
       "      <th>P_TOIMIALAKOODI</th>\n",
       "      <th>P_Toimialan_maksuhäiriöriski</th>\n",
       "      <th>P_kiinnitysten_EUR</th>\n",
       "      <th>P_Positiiviset_Maksutavat_EUR</th>\n",
       "      <th>P_Positiivisten_maksutapojen_toimittajien_LKM</th>\n",
       "      <th>P_Maksuviiveiden_yli8päivää_EUR</th>\n",
       "      <th>P_Maksuviiveiden_yli8päivää_Toimittajien_LKM</th>\n",
       "      <th>...</th>\n",
       "      <th>P_TASE</th>\n",
       "      <th>P_Omavaraisuusaste</th>\n",
       "      <th>P_KOKONAISPAAOMA_TUOTTO</th>\n",
       "      <th>P_QUICKRATIO</th>\n",
       "      <th>P_OMA_PAAOMA</th>\n",
       "      <th>P_MAKSUHAIRIOT_alle1Vuotta_vanhojen_KPL</th>\n",
       "      <th>P_MAKSUHAIRIOT_1_vuodesta_2_vuoteen_vanhojen_KPL</th>\n",
       "      <th>P_MAKSUHAIRIOT_yli_2_vuotta_vanhojen_KPL</th>\n",
       "      <th>Yritystä_haettu_konkurssiin_velkojan_toimesta</th>\n",
       "      <th>Yrityssaneeraus</th>\n",
       "    </tr>\n",
       "    <tr>\n",
       "      <th>VASTE</th>\n",
       "      <th></th>\n",
       "      <th></th>\n",
       "      <th></th>\n",
       "      <th></th>\n",
       "      <th></th>\n",
       "      <th></th>\n",
       "      <th></th>\n",
       "      <th></th>\n",
       "      <th></th>\n",
       "      <th></th>\n",
       "      <th></th>\n",
       "      <th></th>\n",
       "      <th></th>\n",
       "      <th></th>\n",
       "      <th></th>\n",
       "      <th></th>\n",
       "      <th></th>\n",
       "      <th></th>\n",
       "      <th></th>\n",
       "      <th></th>\n",
       "      <th></th>\n",
       "    </tr>\n",
       "  </thead>\n",
       "  <tbody>\n",
       "    <tr>\n",
       "      <th>0</th>\n",
       "      <td>15235</td>\n",
       "      <td>15235</td>\n",
       "      <td>15235</td>\n",
       "      <td>15235</td>\n",
       "      <td>15235</td>\n",
       "      <td>15235</td>\n",
       "      <td>15235</td>\n",
       "      <td>15235</td>\n",
       "      <td>15235</td>\n",
       "      <td>15235</td>\n",
       "      <td>...</td>\n",
       "      <td>15235</td>\n",
       "      <td>15235</td>\n",
       "      <td>15235</td>\n",
       "      <td>15235</td>\n",
       "      <td>15235</td>\n",
       "      <td>15235</td>\n",
       "      <td>15235</td>\n",
       "      <td>15235</td>\n",
       "      <td>15235</td>\n",
       "      <td>15235</td>\n",
       "    </tr>\n",
       "    <tr>\n",
       "      <th>1</th>\n",
       "      <td>1007</td>\n",
       "      <td>1007</td>\n",
       "      <td>1007</td>\n",
       "      <td>1007</td>\n",
       "      <td>1007</td>\n",
       "      <td>1007</td>\n",
       "      <td>1007</td>\n",
       "      <td>1007</td>\n",
       "      <td>1007</td>\n",
       "      <td>1007</td>\n",
       "      <td>...</td>\n",
       "      <td>1007</td>\n",
       "      <td>1007</td>\n",
       "      <td>1007</td>\n",
       "      <td>1007</td>\n",
       "      <td>1007</td>\n",
       "      <td>1007</td>\n",
       "      <td>1007</td>\n",
       "      <td>1007</td>\n",
       "      <td>1007</td>\n",
       "      <td>1007</td>\n",
       "    </tr>\n",
       "  </tbody>\n",
       "</table>\n",
       "<p>2 rows × 39 columns</p>\n",
       "</div>"
      ],
      "text/plain": [
       "       KAUPPAREKISTERINRO  Yrityksen_ikä_kk  YHTIOMUOTO  P_TOIMIALAKOODI  \\\n",
       "VASTE                                                                      \n",
       "0                   15235             15235       15235            15235   \n",
       "1                    1007              1007        1007             1007   \n",
       "\n",
       "       P_Toimialan_maksuhäiriöriski  P_kiinnitysten_EUR  \\\n",
       "VASTE                                                     \n",
       "0                             15235               15235   \n",
       "1                              1007                1007   \n",
       "\n",
       "       P_Positiiviset_Maksutavat_EUR  \\\n",
       "VASTE                                  \n",
       "0                              15235   \n",
       "1                               1007   \n",
       "\n",
       "       P_Positiivisten_maksutapojen_toimittajien_LKM  \\\n",
       "VASTE                                                  \n",
       "0                                              15235   \n",
       "1                                               1007   \n",
       "\n",
       "       P_Maksuviiveiden_yli8päivää_EUR  \\\n",
       "VASTE                                    \n",
       "0                                15235   \n",
       "1                                 1007   \n",
       "\n",
       "       P_Maksuviiveiden_yli8päivää_Toimittajien_LKM  ...  P_TASE  \\\n",
       "VASTE                                                ...           \n",
       "0                                             15235  ...   15235   \n",
       "1                                              1007  ...    1007   \n",
       "\n",
       "       P_Omavaraisuusaste  P_KOKONAISPAAOMA_TUOTTO  P_QUICKRATIO  \\\n",
       "VASTE                                                              \n",
       "0                   15235                    15235         15235   \n",
       "1                    1007                     1007          1007   \n",
       "\n",
       "       P_OMA_PAAOMA  P_MAKSUHAIRIOT_alle1Vuotta_vanhojen_KPL  \\\n",
       "VASTE                                                          \n",
       "0             15235                                    15235   \n",
       "1              1007                                     1007   \n",
       "\n",
       "       P_MAKSUHAIRIOT_1_vuodesta_2_vuoteen_vanhojen_KPL  \\\n",
       "VASTE                                                     \n",
       "0                                                 15235   \n",
       "1                                                  1007   \n",
       "\n",
       "       P_MAKSUHAIRIOT_yli_2_vuotta_vanhojen_KPL  \\\n",
       "VASTE                                             \n",
       "0                                         15235   \n",
       "1                                          1007   \n",
       "\n",
       "       Yritystä_haettu_konkurssiin_velkojan_toimesta  Yrityssaneeraus  \n",
       "VASTE                                                                  \n",
       "0                                              15235            15235  \n",
       "1                                               1007             1007  \n",
       "\n",
       "[2 rows x 39 columns]"
      ]
     },
     "execution_count": 14,
     "metadata": {},
     "output_type": "execute_result"
    }
   ],
   "source": [
    "df.groupby('VASTE').count()"
   ]
  },
  {
   "cell_type": "code",
   "execution_count": null,
   "metadata": {},
   "outputs": [],
   "source": []
  }
 ],
 "metadata": {
  "kernelspec": {
   "display_name": "Python 3",
   "language": "python",
   "name": "python3"
  },
  "language_info": {
   "codemirror_mode": {
    "name": "ipython",
    "version": 3
   },
   "file_extension": ".py",
   "mimetype": "text/x-python",
   "name": "python",
   "nbconvert_exporter": "python",
   "pygments_lexer": "ipython3",
   "version": "3.6.8"
  }
 },
 "nbformat": 4,
 "nbformat_minor": 2
}
